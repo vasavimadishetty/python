{
 "cells": [
  {
   "cell_type": "code",
   "execution_count": 6,
   "metadata": {},
   "outputs": [],
   "source": [
    "def print_numbers(start, end):\n",
    "    \"\"\"Print Numbers\n",
    "\n",
    "    Args:\n",
    "      start: start value \n",
    "      end: end value\n",
    "\n",
    "    Returns: None\n",
    "\n",
    "    \"\"\"\n",
    "    for index in range(start,end+1):\n",
    "        print(index, end=\" \")"
   ]
  },
  {
   "cell_type": "code",
   "execution_count": 12,
   "metadata": {},
   "outputs": [
    {
     "name": "stdout",
     "output_type": "stream",
     "text": [
      "1 2 3 4 5 6 7 8 9 10 "
     ]
    }
   ],
   "source": [
    "print_numbers(1,10)"
   ]
  },
  {
   "cell_type": "code",
   "execution_count": 13,
   "metadata": {},
   "outputs": [],
   "source": [
    "def print_numbers(start=1, end=5):\n",
    "    \"\"\"Print Numbers\n",
    "\n",
    "    Args:\n",
    "      start: start value if not passed will consider 1\n",
    "      end: end value if not passed will consider 5\n",
    "\n",
    "    Returns: None\n",
    "\n",
    "    \"\"\"\n",
    "    for index in range(start,end+1):\n",
    "        print(index, end=\" \")"
   ]
  },
  {
   "cell_type": "code",
   "execution_count": 14,
   "metadata": {},
   "outputs": [
    {
     "name": "stdout",
     "output_type": "stream",
     "text": [
      "1 2 3 4 5 "
     ]
    }
   ],
   "source": [
    "print_numbers()"
   ]
  },
  {
   "cell_type": "code",
   "execution_count": 15,
   "metadata": {},
   "outputs": [
    {
     "name": "stdout",
     "output_type": "stream",
     "text": [
      "2 3 4 5 "
     ]
    }
   ],
   "source": [
    "print_numbers(2)"
   ]
  },
  {
   "cell_type": "code",
   "execution_count": 16,
   "metadata": {},
   "outputs": [
    {
     "name": "stdout",
     "output_type": "stream",
     "text": [
      "1 2 "
     ]
    }
   ],
   "source": [
    "print_numbers(end=2)"
   ]
  },
  {
   "cell_type": "code",
   "execution_count": 17,
   "metadata": {},
   "outputs": [
    {
     "name": "stdout",
     "output_type": "stream",
     "text": [
      "8 9 10 "
     ]
    }
   ],
   "source": [
    "print_numbers(end = 10, start = 8)"
   ]
  },
  {
   "cell_type": "code",
   "execution_count": 19,
   "metadata": {},
   "outputs": [],
   "source": [
    "print_numbers(10,8)\n",
    "#### here start is 10 and end is 8 so unable to fetch the numbers"
   ]
  },
  {
   "cell_type": "code",
   "execution_count": 20,
   "metadata": {},
   "outputs": [],
   "source": [
    "\"\"\"\n",
    "This python module will have reusable numerical functions\n",
    "   is_even\n",
    "   is_prime\n",
    "\"\"\"\n",
    "\n",
    "def is_even(number: int):\n",
    "    \"\"\"Finds if the number is even or odd\n",
    "\n",
    "    Args:\n",
    "      number: Number passed\n",
    "\n",
    "    Returns:\n",
    "      True if even, False otherwise\n",
    "\n",
    "    Usage:\n",
    "       is_even(6)\n",
    "       Return True\n",
    "    \"\"\"\n",
    "    if number <= 0:\n",
    "        return False\n",
    "    result = number%2 == 0\n",
    "    return result"
   ]
  },
  {
   "cell_type": "code",
   "execution_count": 21,
   "metadata": {},
   "outputs": [
    {
     "name": "stdout",
     "output_type": "stream",
     "text": [
      "10 12 14 16 18 20 22 24 "
     ]
    }
   ],
   "source": [
    "for index in range(10,25):\n",
    "    if is_even(index):\n",
    "        print(index, end=\" \")"
   ]
  },
  {
   "cell_type": "code",
   "execution_count": null,
   "metadata": {},
   "outputs": [],
   "source": []
  }
 ],
 "metadata": {
  "kernelspec": {
   "display_name": "Python 3",
   "language": "python",
   "name": "python3"
  },
  "language_info": {
   "codemirror_mode": {
    "name": "ipython",
    "version": 3
   },
   "file_extension": ".py",
   "mimetype": "text/x-python",
   "name": "python",
   "nbconvert_exporter": "python",
   "pygments_lexer": "ipython3",
   "version": "3.12.3"
  }
 },
 "nbformat": 4,
 "nbformat_minor": 2
}
