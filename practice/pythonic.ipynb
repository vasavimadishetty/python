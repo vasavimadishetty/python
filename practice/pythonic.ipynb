{
 "cells": [
  {
   "cell_type": "code",
   "execution_count": 1,
   "metadata": {},
   "outputs": [],
   "source": [
    "def get_fibbonaci_sequence(end):\n",
    "    \"\"\"This method returns the fibonnaci sequence till end value passed\n",
    "\n",
    "    Args:\n",
    "      end(int): prints fibbonaci sequence till end\n",
    "\n",
    "    Returns:\n",
    "      list of numbers\n",
    "    \"\"\"\n",
    "    if end <= 2:\n",
    "        return None\n",
    "    first = 1\n",
    "    second = 2\n",
    "    fibbonacci_sequence = [] # list\n",
    "    fibbonacci_sequence.append(first)\n",
    "    fibbonacci_sequence.append(second)\n",
    "    while True:\n",
    "        third = first + second\n",
    "        if third > end:\n",
    "            return fibbonacci_sequence\n",
    "        fibbonacci_sequence.append(third)\n",
    "        first = second\n",
    "        second = third"
   ]
  },
  {
   "cell_type": "code",
   "execution_count": 2,
   "metadata": {},
   "outputs": [],
   "source": [
    "def is_even(number) -> bool:\n",
    "    \"\"\"This method determines if the number is even or not\n",
    "    \"\"\"\n",
    "    if number <= 0:\n",
    "        return False\n",
    "    return number%2 == 0"
   ]
  },
  {
   "cell_type": "code",
   "execution_count": 3,
   "metadata": {},
   "outputs": [],
   "source": [
    "def project_euler_2():\n",
    "    \"\"\"Solution of project euler 2\n",
    "    \"\"\"\n",
    "    # lets solve project euler problem 2\n",
    "    max = 4000000\n",
    "    sequence = get_fibbonaci_sequence(max)\n",
    "    print(\"fibonnaci under 4million are\")\n",
    "    print(sequence)\n",
    "    even_sequence = []\n",
    "    for item in sequence:\n",
    "        if is_even(item):\n",
    "            even_sequence.append(item)\n",
    "    print(\"even numbers in sequence are as follows\")\n",
    "    print(even_sequence)\n",
    "    # sum of all of the sequnce\n",
    "    sum_of_even_fibbonaci = sum(even_sequence)\n",
    "    print(sum_of_even_fibbonaci)"
   ]
  },
  {
   "cell_type": "code",
   "execution_count": 4,
   "metadata": {},
   "outputs": [
    {
     "name": "stdout",
     "output_type": "stream",
     "text": [
      "fibonnaci under 4million are\n",
      "[1, 2, 3, 5, 8, 13, 21, 34, 55, 89, 144, 233, 377, 610, 987, 1597, 2584, 4181, 6765, 10946, 17711, 28657, 46368, 75025, 121393, 196418, 317811, 514229, 832040, 1346269, 2178309, 3524578]\n",
      "even numbers in sequence are as follows\n",
      "[2, 8, 34, 144, 610, 2584, 10946, 46368, 196418, 832040, 3524578]\n",
      "4613732\n"
     ]
    }
   ],
   "source": [
    "project_euler_2()"
   ]
  },
  {
   "cell_type": "code",
   "execution_count": 5,
   "metadata": {},
   "outputs": [
    {
     "data": {
      "text/plain": [
       "4613732"
      ]
     },
     "execution_count": 5,
     "metadata": {},
     "output_type": "execute_result"
    }
   ],
   "source": [
    "max = 4000000\n",
    "sum(list(filter(is_even, get_fibbonaci_sequence(max))))"
   ]
  },
  {
   "cell_type": "code",
   "execution_count": 6,
   "metadata": {},
   "outputs": [],
   "source": [
    "def is_prime(number: int):\n",
    "    \"\"\"Determines if the number is prime or not\n",
    "\n",
    "    Args:\n",
    "      number: the value to be passed \n",
    "\n",
    "    Returns: \n",
    "      True if prime False otherwise\n",
    "    \"\"\"\n",
    "    if number<=0:\n",
    "        return False\n",
    "    for index in range(2,number):\n",
    "        if number % index == 0:\n",
    "            return False\n",
    "    return True"
   ]
  },
  {
   "cell_type": "code",
   "execution_count": 7,
   "metadata": {},
   "outputs": [
    {
     "name": "stdout",
     "output_type": "stream",
     "text": [
      "[1, 2, 3, 5, 7, 11, 13, 17, 19, 23, 29, 31, 37, 41, 43, 47, 53, 59, 61, 67, 71, 73, 79, 83, 89, 97]\n"
     ]
    }
   ],
   "source": [
    "# all prime numbers from 1 to 10000\n",
    "result = list(filter(is_prime, range(1,100)))\n",
    "print(result)"
   ]
  },
  {
   "cell_type": "code",
   "execution_count": 8,
   "metadata": {},
   "outputs": [
    {
     "data": {
      "text/plain": [
       "544829"
      ]
     },
     "execution_count": 8,
     "metadata": {},
     "output_type": "execute_result"
    }
   ],
   "source": [
    "# sum of all prime numbers in fibbonaci sequence till 4 million\n",
    "max = 4000000\n",
    "sum(filter(is_prime, get_fibbonaci_sequence(max)))"
   ]
  },
  {
   "cell_type": "code",
   "execution_count": 9,
   "metadata": {},
   "outputs": [],
   "source": [
    "# largest prime factor\n",
    "# lets write a code to find factors\n",
    "def factors(number):\n",
    "    for index in range(2, number):\n",
    "        if number % index == 0:\n",
    "            yield index"
   ]
  },
  {
   "cell_type": "code",
   "execution_count": 10,
   "metadata": {},
   "outputs": [
    {
     "name": "stdout",
     "output_type": "stream",
     "text": [
      "[5, 7, 13, 29, 35, 65, 91, 145, 203, 377, 455, 1015, 1885, 2639]\n",
      "29\n"
     ]
    }
   ],
   "source": [
    "# find all factors of \n",
    "number_to_be_checked = 13195\n",
    "print(list(factors(number_to_be_checked)))\n",
    "\n",
    "prime_factors = filter(is_prime, factors(number_to_be_checked))\n",
    "print(list(prime_factors)[-1])"
   ]
  }
 ],
 "metadata": {
  "kernelspec": {
   "display_name": "Python 3",
   "language": "python",
   "name": "python3"
  },
  "language_info": {
   "codemirror_mode": {
    "name": "ipython",
    "version": 3
   },
   "file_extension": ".py",
   "mimetype": "text/x-python",
   "name": "python",
   "nbconvert_exporter": "python",
   "pygments_lexer": "ipython3",
   "version": "3.12.3"
  }
 },
 "nbformat": 4,
 "nbformat_minor": 2
}
